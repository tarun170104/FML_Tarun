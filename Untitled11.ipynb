{
  "nbformat": 4,
  "nbformat_minor": 0,
  "metadata": {
    "colab": {
      "provenance": [],
      "authorship_tag": "ABX9TyO7iqb5h+vcmp4WAhnI5lv0",
      "include_colab_link": true
    },
    "kernelspec": {
      "name": "python3",
      "display_name": "Python 3"
    },
    "language_info": {
      "name": "python"
    }
  },
  "cells": [
    {
      "cell_type": "markdown",
      "metadata": {
        "id": "view-in-github",
        "colab_type": "text"
      },
      "source": [
        "<a href=\"https://colab.research.google.com/github/tarun170104/FML_Tarun/blob/main/Untitled11.ipynb\" target=\"_parent\"><img src=\"https://colab.research.google.com/assets/colab-badge.svg\" alt=\"Open In Colab\"/></a>"
      ]
    },
    {
      "cell_type": "code",
      "execution_count": 2,
      "metadata": {
        "colab": {
          "base_uri": "https://localhost:8080/"
        },
        "id": "Xp3VJbi3uF_i",
        "outputId": "08133eb0-2024-44b9-9979-90a7f91a8419"
      },
      "outputs": [
        {
          "output_type": "stream",
          "name": "stdout",
          "text": [
            "The original string is : Hello,My Name is D.Tarun.;\n",
            "The string after punctuation removal : HelloMy Name is DTarun\n"
          ]
        }
      ],
      "source": [
        "import string\n",
        " \n",
        "test_str = \"Hello,My Name is D.Tarun.;\"\n",
        "print(\"The original string is : \" + test_str)\n",
        "for punctuation in string.punctuation:\n",
        "    test_str = test_str.replace(punctuation, '')\n",
        "print(\"The string after punctuation removal : \" + test_str)"
      ]
    }
  ]
}