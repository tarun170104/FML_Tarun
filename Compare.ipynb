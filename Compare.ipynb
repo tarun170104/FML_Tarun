{
  "nbformat": 4,
  "nbformat_minor": 0,
  "metadata": {
    "colab": {
      "provenance": [],
      "include_colab_link": true
    },
    "kernelspec": {
      "name": "python3",
      "display_name": "Python 3"
    },
    "language_info": {
      "name": "python"
    }
  },
  "cells": [
    {
      "cell_type": "markdown",
      "metadata": {
        "id": "view-in-github",
        "colab_type": "text"
      },
      "source": [
        "<a href=\"https://colab.research.google.com/github/tarun170104/FML_Tarun/blob/main/Compare.ipynb\" target=\"_parent\"><img src=\"https://colab.research.google.com/assets/colab-badge.svg\" alt=\"Open In Colab\"/></a>"
      ]
    },
    {
      "cell_type": "code",
      "execution_count": null,
      "metadata": {
        "colab": {
          "base_uri": "https://localhost:8080/"
        },
        "id": "LWQS-bmL7oBM",
        "outputId": "1b75f837-3294-45f6-c01b-402fa28b7cb2"
      },
      "outputs": [
        {
          "output_type": "stream",
          "name": "stdout",
          "text": [
            "Array a:  [101  97  87]\n",
            "Array b:  [897  97 111]\n",
            "a > b\n",
            "[False False False]\n",
            "a >= b\n",
            "[False  True False]\n",
            "a < b\n",
            "[ True False  True]\n",
            "a <= b\n",
            "[ True  True  True]\n"
          ]
        }
      ],
      "source": [
        "import numpy as np\n",
        "a = np.array([101, 97, 87])\n",
        "b = np.array([897, 97, 111])\n",
        "print(\"Array a: \", a)\n",
        "print(\"Array b: \", b)\n",
        "print(\"a > b\")\n",
        "print(np.greater(a, b))\n",
        "print(\"a >= b\")\n",
        "print(np.greater_equal(a, b))\n",
        "print(\"a < b\")\n",
        "print(np.less(a, b)) \n",
        "print(\"a <= b\")\n",
        "print(np.less_equal(a, b))"
      ]
    },
    {
      "cell_type": "code",
      "source": [
        "# We are creating an array contains n elements \n",
        "# for getting first 'n' Fibonacci numbers \n",
        "fNumber = int(input(\"Enter the value of n + 1'th number : \")) \n",
        "a = np.arange(1, fNumber) \n",
        "length_a = len(a) \n",
        "# splitting of terms for easiness \n",
        "sqrt_five = np.sqrt(5) \n",
        "alpha = (1 + sqrt_five) / 2\n",
        "beta = (1 - sqrt_five) / 2\n",
        "# Implementation of formula \n",
        "# np.rint is used for rounding off to integer \n",
        "Fn = np.rint(((alpha ** a) - (beta ** a)) / (sqrt_five)) \n",
        "print(\"The first {} numbers of Fibonacci series are {} . \".format(length_a, Fn)) \n",
        " "
      ],
      "metadata": {
        "colab": {
          "base_uri": "https://localhost:8080/"
        },
        "id": "uxUHblNf-vDh",
        "outputId": "5e7483ca-ea71-454b-f28f-232cd0df1caa"
      },
      "execution_count": null,
      "outputs": [
        {
          "output_type": "stream",
          "name": "stdout",
          "text": [
            "Enter the value of n + 1'th number : 5\n",
            "The first 4 numbers of Fibonacci series are [1. 1. 2. 3.] . \n"
          ]
        }
      ]
    }
  ]
}